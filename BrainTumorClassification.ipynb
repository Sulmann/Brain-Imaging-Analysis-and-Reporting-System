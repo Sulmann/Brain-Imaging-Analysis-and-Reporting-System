{
 "cells": [
  {
   "cell_type": "markdown",
   "metadata": {
    "id": "ubIzfSC-TUF6"
   },
   "source": [
    "# Brain Imaging Analysis and Reporting System"
   ]
  },
  {
   "cell_type": "code",
   "execution_count": 1,
   "metadata": {},
   "outputs": [],
   "source": [
    "import tensorflow as tf\n",
    "from tensorflow.keras.applications import VGG16, EfficientNetB0, MobileNetV2\n",
    "from tensorflow.keras.models import Model, load_model\n",
    "from tensorflow.keras.layers import Flatten, Dense, Dropout\n",
    "import numpy as np\n",
    "import os\n",
    "import cv2\n",
    "from sklearn.model_selection import train_test_split\n",
    "import matplotlib.pyplot as plt\n",
    "from sklearn.metrics import confusion_matrix, classification_report, ConfusionMatrixDisplay, precision_score, recall_score, f1_score\n",
    "from PIL import Image\n",
    "from fpdf import FPDF\n",
    "from ultralytics import YOLO"
   ]
  },
  {
   "cell_type": "code",
   "execution_count": 2,
   "metadata": {},
   "outputs": [],
   "source": [
    "def load_and_preprocess_images(directory, target_size=(512, 512)):\n",
    "    X, y = [], []\n",
    "    class_folders = os.listdir(directory)\n",
    "    class_folders.sort()\n",
    "\n",
    "    for class_index, class_folder in enumerate(class_folders):\n",
    "        class_path = os.path.join(directory, class_folder)\n",
    "        if os.path.isdir(class_path):\n",
    "            for image_file in os.listdir(class_path):\n",
    "                image_path = os.path.join(class_path, image_file)\n",
    "                try:\n",
    "                    image = cv2.imread(image_path)\n",
    "                    if image is None:\n",
    "                        print(f\"Error: Unable to load {image_path}\")\n",
    "                        continue\n",
    "                    image = cv2.resize(image, target_size)\n",
    "                    if image.shape[-1] != 3:  # Handle grayscale images\n",
    "                        image = cv2.cvtColor(image, cv2.COLOR_GRAY2RGB)\n",
    "                    X.append(image)\n",
    "                    y.append(class_index)\n",
    "                except Exception as e:\n",
    "                    print(f\"Error loading {image_path}: {e}\")\n",
    "\n",
    "    X = np.array(X) / 255.0  # Normalize images\n",
    "    y = np.array(y)\n",
    "    return X, y\n"
   ]
  },
  {
   "cell_type": "code",
   "execution_count": 3,
   "metadata": {
    "id": "d1yAqaHsTUF8",
    "outputId": "b634122d-d7ce-45a6-8f8b-f84619d0d792"
   },
   "outputs": [],
   "source": [
    "# Load and preprocess images\n",
    "path = \"Brain Tumorabeled dataset\"\n",
    "X, y = load_and_preprocess_images(path)\n",
    "X_train, X_test, y_train, y_test = train_test_split(X, y, test_size=0.2, random_state=42)\n",
    "\n",
    "# Function to create and train a model (VGG16, EfficientNet, MobileNet)\n",
    "def train_model(base_model, X_train, y_train, X_test, y_test, num_classes):\n",
    "    base_model.trainable = False\n",
    "    x = Flatten()(base_model.output)\n",
    "    x = Dense(128, activation='relu')(x)\n",
    "    x = Dropout(0.5)(x)\n",
    "    predictions = Dense(num_classes, activation='softmax')(x)\n",
    "    model = Model(inputs=base_model.input, outputs=predictions)\n",
    "\n",
    "    model.compile(optimizer='adam', loss='sparse_categorical_crossentropy', metrics=['accuracy'])\n",
    "    model.fit(X_train, y_train, epochs=10, validation_data=(X_test, y_test))\n",
    "    return model\n"
   ]
  },
  {
   "cell_type": "code",
   "execution_count": 4,
   "metadata": {},
   "outputs": [
    {
     "name": "stdout",
     "output_type": "stream",
     "text": [
      "Epoch 1/10\n",
      "\u001b[1m9/9\u001b[0m \u001b[32m━━━━━━━━━━━━━━━━━━━━\u001b[0m\u001b[37m\u001b[0m \u001b[1m135s\u001b[0m 15s/step - accuracy: 0.3755 - loss: 10.6158 - val_accuracy: 0.8657 - val_loss: 0.8748\n",
      "Epoch 2/10\n",
      "\u001b[1m9/9\u001b[0m \u001b[32m━━━━━━━━━━━━━━━━━━━━\u001b[0m\u001b[37m\u001b[0m \u001b[1m127s\u001b[0m 14s/step - accuracy: 0.6829 - loss: 2.6736 - val_accuracy: 0.8806 - val_loss: 0.4801\n",
      "Epoch 3/10\n",
      "\u001b[1m9/9\u001b[0m \u001b[32m━━━━━━━━━━━━━━━━━━━━\u001b[0m\u001b[37m\u001b[0m \u001b[1m126s\u001b[0m 14s/step - accuracy: 0.8276 - loss: 0.5120 - val_accuracy: 0.9403 - val_loss: 0.1909\n",
      "Epoch 4/10\n",
      "\u001b[1m9/9\u001b[0m \u001b[32m━━━━━━━━━━━━━━━━━━━━\u001b[0m\u001b[37m\u001b[0m \u001b[1m127s\u001b[0m 14s/step - accuracy: 0.9129 - loss: 0.2727 - val_accuracy: 0.9254 - val_loss: 0.1946\n",
      "Epoch 5/10\n",
      "\u001b[1m9/9\u001b[0m \u001b[32m━━━━━━━━━━━━━━━━━━━━\u001b[0m\u001b[37m\u001b[0m \u001b[1m126s\u001b[0m 14s/step - accuracy: 0.9198 - loss: 0.1834 - val_accuracy: 0.9701 - val_loss: 0.1418\n",
      "Epoch 6/10\n",
      "\u001b[1m9/9\u001b[0m \u001b[32m━━━━━━━━━━━━━━━━━━━━\u001b[0m\u001b[37m\u001b[0m \u001b[1m126s\u001b[0m 14s/step - accuracy: 0.9582 - loss: 0.0989 - val_accuracy: 0.9552 - val_loss: 0.1163\n",
      "Epoch 7/10\n",
      "\u001b[1m9/9\u001b[0m \u001b[32m━━━━━━━━━━━━━━━━━━━━\u001b[0m\u001b[37m\u001b[0m \u001b[1m126s\u001b[0m 14s/step - accuracy: 0.9545 - loss: 0.1231 - val_accuracy: 0.9701 - val_loss: 0.0891\n",
      "Epoch 8/10\n",
      "\u001b[1m9/9\u001b[0m \u001b[32m━━━━━━━━━━━━━━━━━━━━\u001b[0m\u001b[37m\u001b[0m \u001b[1m126s\u001b[0m 14s/step - accuracy: 0.9678 - loss: 0.0789 - val_accuracy: 0.9403 - val_loss: 0.0789\n",
      "Epoch 9/10\n",
      "\u001b[1m9/9\u001b[0m \u001b[32m━━━━━━━━━━━━━━━━━━━━\u001b[0m\u001b[37m\u001b[0m \u001b[1m127s\u001b[0m 14s/step - accuracy: 0.9460 - loss: 0.1002 - val_accuracy: 0.9552 - val_loss: 0.0671\n",
      "Epoch 10/10\n",
      "\u001b[1m9/9\u001b[0m \u001b[32m━━━━━━━━━━━━━━━━━━━━\u001b[0m\u001b[37m\u001b[0m \u001b[1m126s\u001b[0m 14s/step - accuracy: 0.9697 - loss: 0.0639 - val_accuracy: 0.9851 - val_loss: 0.0715\n"
     ]
    }
   ],
   "source": [
    "# Train VGG16 model\n",
    "vgg16_model = VGG16(weights='imagenet', include_top=False, input_shape=(512, 512, 3))\n",
    "vgg16_model_final = train_model(vgg16_model, X_train, y_train, X_test, y_test, len(os.listdir(path)))\n"
   ]
  },
  {
   "cell_type": "code",
   "execution_count": 5,
   "metadata": {
    "id": "ixKiNAlvTUGA",
    "outputId": "f39ac629-4503-415f-e7d4-1c8aea17bfa7"
   },
   "outputs": [
    {
     "name": "stdout",
     "output_type": "stream",
     "text": [
      "\u001b[1m3/3\u001b[0m \u001b[32m━━━━━━━━━━━━━━━━━━━━\u001b[0m\u001b[37m\u001b[0m \u001b[1m25s\u001b[0m 7s/step - accuracy: 0.9886 - loss: 0.0559\n"
     ]
    },
    {
     "data": {
      "text/plain": [
       "[0.07149983197450638, 0.9850746393203735]"
      ]
     },
     "execution_count": 5,
     "metadata": {},
     "output_type": "execute_result"
    }
   ],
   "source": [
    "# Evaluate the CNN models\n",
    "vgg16_model_final.evaluate(X_test, y_test)"
   ]
  },
  {
   "cell_type": "code",
   "execution_count": 6,
   "metadata": {
    "id": "mLZQKxnDTUGA"
   },
   "outputs": [],
   "source": [
    "# Function to handle user image input\n",
    "def handle_user_image_input(image_path, model):\n",
    "    try:\n",
    "        image = Image.open(image_path)\n",
    "        result = predict_tumor(image, model)\n",
    "        print(f\"Prediction: {result}\")\n",
    "\n",
    "        if result == \"Tumor Detected\":\n",
    "            image_with_box, tumor_detected = detect_and_draw_bounding_box(image_path)\n",
    "            return result, image_with_box if tumor_detected else None\n",
    "        else:\n",
    "            return result, None\n",
    "    except Exception as e:\n",
    "        print(f\"Error processing image: {e}\")\n",
    "        return None, None"
   ]
  },
  {
   "cell_type": "code",
   "execution_count": 7,
   "metadata": {
    "id": "2XiYo5ngTUGB"
   },
   "outputs": [],
   "source": [
    "# Function to generate a PDF report\n",
    "def generate_pdf_report(image_path, prediction, image_with_box=None):\n",
    "    pdf = FPDF()\n",
    "    pdf.add_page()\n",
    "\n",
    "    pdf.set_font(\"Arial\", size=16)\n",
    "    pdf.cell(200, 10, txt=\"Brain Tumor Detection Report\", ln=True, align=\"C\")\n",
    "\n",
    "    pdf.set_font(\"Arial\", size=12)\n",
    "    pdf.cell(200, 10, txt=f\"Prediction: {prediction}\", ln=True, align=\"L\")\n",
    "\n",
    "    if prediction == \"Tumor Detected\" and image_with_box is not None:\n",
    "        output_image_path = \"output_image_with_box.jpg\"\n",
    "        cv2.imwrite(output_image_path, image_with_box)\n",
    "        pdf.image(output_image_path, x=10, y=30, w=100)\n",
    "    else:\n",
    "        pdf.image(image_path, x=10, y=30, w=100)\n",
    "\n",
    "    output_path = \"tumor_detection_report.pdf\"\n",
    "    pdf.output(output_path)\n",
    "    print(f\"PDF report generated: {output_path}\")\n",
    "\n"
   ]
  },
  {
   "cell_type": "code",
   "execution_count": 7,
   "metadata": {
    "id": "y0fMznmJTUGB",
    "outputId": "ea86dcec-e0f5-4c09-fe19-da6ce9858931"
   },
   "outputs": [
    {
     "name": "stdout",
     "output_type": "stream",
     "text": [
      "Error processing image: name 'predict_tumor' is not defined\n"
     ]
    }
   ],
   "source": [
    "# Example usage\n",
    "image_path = \"Tr-me_0552.jpg\"  # Replace with actual image path\n",
    "prediction, image_with_box = handle_user_image_input(image_path, vgg16_model_final)\n",
    "if prediction:\n",
    "    generate_pdf_report(image_path, prediction, image_with_box)\n",
    "\n"
   ]
  },
  {
   "cell_type": "code",
   "execution_count": 20,
   "metadata": {
    "id": "703Y0AttTUGC",
    "outputId": "5e860bdd-b7f9-4398-e5c0-b7685d65e190"
   },
   "outputs": [
    {
     "name": "stdout",
     "output_type": "stream",
     "text": [
      "WARNING:tensorflow:6 out of the last 9 calls to <function TensorFlowTrainer.make_predict_function.<locals>.one_step_on_data_distributed at 0x000002606ED204A0> triggered tf.function retracing. Tracing is expensive and the excessive number of tracings could be due to (1) creating @tf.function repeatedly in a loop, (2) passing tensors with different shapes, (3) passing Python objects instead of tensors. For (1), please define your @tf.function outside of the loop. For (2), @tf.function has reduce_retracing=True option that can avoid unnecessary retracing. For (3), please refer to https://www.tensorflow.org/guide/function#controlling_retracing and https://www.tensorflow.org/api_docs/python/tf/function for  more details.\n"
     ]
    },
    {
     "name": "stderr",
     "output_type": "stream",
     "text": [
      "WARNING:tensorflow:6 out of the last 9 calls to <function TensorFlowTrainer.make_predict_function.<locals>.one_step_on_data_distributed at 0x000002606ED204A0> triggered tf.function retracing. Tracing is expensive and the excessive number of tracings could be due to (1) creating @tf.function repeatedly in a loop, (2) passing tensors with different shapes, (3) passing Python objects instead of tensors. For (1), please define your @tf.function outside of the loop. For (2), @tf.function has reduce_retracing=True option that can avoid unnecessary retracing. For (3), please refer to https://www.tensorflow.org/guide/function#controlling_retracing and https://www.tensorflow.org/api_docs/python/tf/function for  more details.\n"
     ]
    },
    {
     "name": "stdout",
     "output_type": "stream",
     "text": [
      "\u001b[1m3/3\u001b[0m \u001b[32m━━━━━━━━━━━━━━━━━━━━\u001b[0m\u001b[37m\u001b[0m \u001b[1m29s\u001b[0m 7s/step\n"
     ]
    },
    {
     "data": {
      "image/png": "[encoded data removed]",
      "text/plain": [
       "<Figure size 640x480 with 2 Axes>"
      ]
     },
     "metadata": {},
     "output_type": "display_data"
    },
    {
     "name": "stdout",
     "output_type": "stream",
     "text": [
      "              precision    recall  f1-score   support\n",
      "\n",
      "      glioma       0.95      1.00      0.97        19\n",
      "  meningioma       1.00      0.93      0.97        15\n",
      "     notumor       1.00      1.00      1.00        17\n",
      "   pituitary       1.00      1.00      1.00        16\n",
      "\n",
      "    accuracy                           0.99        67\n",
      "   macro avg       0.99      0.98      0.98        67\n",
      "weighted avg       0.99      0.99      0.99        67\n",
      "\n"
     ]
    }
   ],
   "source": [
    "# Generate confusion matrix and classification report\n",
    "y_pred = vgg16_model_final.predict(X_test)\n",
    "y_pred_classes = np.argmax(y_pred, axis=1)\n",
    "\n",
    "# Use class names instead of numbers in confusion matrix and classification report\n",
    "class_names = os.listdir(path)  # Get class names from directory\n",
    "cm = confusion_matrix(y_test, y_pred_classes)\n",
    "\n",
    "# Plot confusion matrix with class names\n",
    "ConfusionMatrixDisplay(confusion_matrix=cm, display_labels=class_names).plot(cmap='Blues')\n",
    "plt.title(\"Confusion Matrix\")\n",
    "plt.show()\n",
    "\n",
    "# Generate classification report using class names\n",
    "report = classification_report(y_test, y_pred_classes, target_names=class_names)\n",
    "print(report)\n",
    "\n",
    "with open(\"classification_report.txt\", \"w\") as f:\n",
    "    f.write(report)"
   ]
  },
  {
   "cell_type": "code",
   "execution_count": 21,
   "metadata": {
    "id": "p8n65m-4TUGC"
   },
   "outputs": [
    {
     "name": "stdout",
     "output_type": "stream",
     "text": [
      "Precision: 0.99\n",
      "Recall: 0.99\n",
      "F1 Score: 0.99\n"
     ]
    }
   ],
   "source": [
    "# Calculate precision, recall, and F1 score\n",
    "precision = precision_score(y_test, y_pred_classes, average='weighted')\n",
    "recall = recall_score(y_test, y_pred_classes, average='weighted')\n",
    "f1 = f1_score(y_test, y_pred_classes, average='weighted')\n",
    "\n",
    "print(f\"Precision: {precision:.2f}\")\n",
    "print(f\"Recall: {recall:.2f}\")\n",
    "print(f\"F1 Score: {f1:.2f}\")\n"
   ]
  },
  {
   "cell_type": "code",
   "execution_count": 22,
   "metadata": {
    "id": "VvK6QtFMTUGC",
    "outputId": "2be4df43-9b37-46a8-8c5e-7faed1616a55"
   },
   "outputs": [
    {
     "name": "stdout",
     "output_type": "stream",
     "text": [
      "Precision: 0.99\n",
      "Recall: 0.99\n",
      "F1 Score: 0.99\n"
     ]
    }
   ],
   "source": [
    "# Calculate precision, recall, and F1 score for each class\n",
    "precision = precision_score(y_test, y_pred_classes, average='weighted')\n",
    "recall = recall_score(y_test, y_pred_classes, average='weighted')\n",
    "f1 = f1_score(y_test, y_pred_classes, average='weighted')\n",
    "\n",
    "print(f\"Precision: {precision:.2f}\")\n",
    "print(f\"Recall: {recall:.2f}\")\n",
    "print(f\"F1 Score: {f1:.2f}\")\n",
    "\n",
    "\n"
   ]
  },
  {
   "cell_type": "code",
   "execution_count": 23,
   "metadata": {
    "id": "s1pI7KCKTUGC"
   },
   "outputs": [
    {
     "name": "stdout",
     "output_type": "stream",
     "text": [
      "\u001b[1m9/9\u001b[0m \u001b[32m━━━━━━━━━━━━━━━━━━━━\u001b[0m\u001b[37m\u001b[0m \u001b[1m112s\u001b[0m 11s/step - accuracy: 1.0000 - loss: 0.0035\n",
      "\u001b[1m3/3\u001b[0m \u001b[32m━━━━━━━━━━━━━━━━━━━━\u001b[0m\u001b[37m\u001b[0m \u001b[1m25s\u001b[0m 7s/step - accuracy: 0.9886 - loss: 0.0559\n",
      "Training Loss: 0.0019\n",
      "Training Accuracy: 100.00%\n",
      "Validation Loss: 0.0715\n",
      "Validation Accuracy: 98.51%\n"
     ]
    }
   ],
   "source": [
    "# Calculate and display overall accuracy and loss for training and validation\n",
    "train_loss, train_accuracy = vgg16_model_final.evaluate(X_train, y_train)\n",
    "val_loss, val_accuracy = vgg16_model_final.evaluate(X_test, y_test)\n",
    "\n",
    "print(f\"Training Loss: {train_loss:.4f}\")\n",
    "print(f\"Training Accuracy: {train_accuracy * 100:.2f}%\")\n",
    "print(f\"Validation Loss: {val_loss:.4f}\")\n",
    "print(f\"Validation Accuracy: {val_accuracy * 100:.2f}%\")"
   ]
  },
  {
   "cell_type": "code",
   "execution_count": 8,
   "metadata": {},
   "outputs": [
    {
     "name": "stderr",
     "output_type": "stream",
     "text": [
      "WARNING:absl:You are saving your model as an HDF5 file via `model.save()` or `keras.saving.save_model(model)`. This file format is considered legacy. We recommend using instead the native Keras format, e.g. `model.save('my_model.keras')` or `keras.saving.save_model(model, 'my_model.keras')`. \n"
     ]
    },
    {
     "name": "stdout",
     "output_type": "stream",
     "text": [
      "Model saved to vgg16_brain_tumor_model.h5\n"
     ]
    }
   ],
   "source": [
    "# Save the trained model\n",
    "model_save_path = \"vgg16_brain_tumor_model.h5\"\n",
    "vgg16_model_final.save(model_save_path)\n",
    "print(f\"Model saved to {model_save_path}\")\n"
   ]
  },
  {
   "cell_type": "markdown",
   "metadata": {},
   "source": [
    "## pipeline code"
   ]
  },
  {
   "cell_type": "code",
   "execution_count": 24,
   "metadata": {},
   "outputs": [
    {
     "name": "stderr",
     "output_type": "stream",
     "text": [
      "WARNING:absl:Compiled the loaded model, but the compiled metrics have yet to be built. `model.compile_metrics` will be empty until you train or evaluate the model.\n"
     ]
    },
    {
     "name": "stdout",
     "output_type": "stream",
     "text": [
      "\u001b[1m1/1\u001b[0m \u001b[32m━━━━━━━━━━━━━━━━━━━━\u001b[0m\u001b[37m\u001b[0m \u001b[1m2s\u001b[0m 2s/step\n",
      "Classification Result: No Tumor with confidence 1.00\n",
      "No tumor detected. Skipping YOLO.\n",
      "PDF report generated: tumor_detection_report.pdf\n"
     ]
    }
   ],
   "source": [
    "# Load the trained CNN model\n",
    "cnn_model_path = \"vgg16_brain_tumor_model.h5\"  # Path to your saved CNN model\n",
    "cnn_model = load_model(cnn_model_path)\n",
    "\n",
    "# Load the YOLO model\n",
    "yolo_model_path = r'C:\\Users\\PC\\Downloads\\Brain-Tumor-Detection-using-YOLOv8-main\\runs\\detect\\train2\\weights\\best.pt'\n",
    "yolo_model = YOLO(yolo_model_path)\n",
    "\n",
    "# Class names for CNN classification\n",
    "cnn_class_names = [\"No Tumor\", \"Tumor\"]  # Update as per your training setup\n",
    "\n",
    "def preprocess_image(image_path, target_size=(512, 512)):\n",
    "    \"\"\"Preprocess the image for CNN prediction.\"\"\"\n",
    "    image = cv2.imread(image_path)\n",
    "    image = cv2.resize(image, target_size)\n",
    "    image = image / 255.0  # Normalize\n",
    "    image = np.expand_dims(image, axis=0)  # Add batch dimension\n",
    "    return image\n",
    "# Function to divide image into quadrants and determine tumor location\n",
    "def determine_quadrant(image_shape, bbox):\n",
    "    height, width = image_shape[:2]\n",
    "    x_min, y_min, x_max, y_max = bbox\n",
    "\n",
    "    # Calculate center of bounding box\n",
    "    center_x = (x_min + x_max) / 2\n",
    "    center_y = (y_min + y_max) / 2\n",
    "\n",
    "    # Determine quadrant\n",
    "    if center_x < width / 2 and center_y < height / 2:\n",
    "        return \"Top-Left Quadrant\"\n",
    "    elif center_x >= width / 2 and center_y < height / 2:\n",
    "        return \"Top-Right Quadrant\"\n",
    "    elif center_x < width / 2 and center_y >= height / 2:\n",
    "        return \"Bottom-Left Quadrant\"\n",
    "    else:\n",
    "        return \"Bottom-Right Quadrant\"\n",
    "def predict_tumor_cnn(image_path):\n",
    "    \"\"\"Use CNN to classify the image.\"\"\"\n",
    "    image = preprocess_image(image_path)\n",
    "    predictions = cnn_model.predict(image)\n",
    "    predicted_class = np.argmax(predictions)\n",
    "    confidence = predictions[0][predicted_class]\n",
    "    return cnn_class_names[predicted_class], confidence\n",
    "\n",
    "# Updated function for YOLO detection with quadrant calculation\n",
    "def detect_and_draw_bounding_box(image_path):\n",
    "    \"\"\"Use YOLO to detect tumors, draw bounding boxes, and determine the tumor's quadrant.\"\"\"\n",
    "    results = yolo_model.predict(image_path)\n",
    "    if len(results[0].boxes) > 0:  # Check if detections exist\n",
    "        detected_image = results[0].plot()  # Plot boxes on the image\n",
    "        bbox = results[0].boxes[0].xyxy[0].tolist()  # Get the first detection's bbox\n",
    "        quadrant = determine_quadrant(cv2.imread(image_path).shape, bbox)\n",
    "        return detected_image, bbox, quadrant\n",
    "    return None, None, None\n",
    "\n",
    "# Generate PDF Report with quadrant and bounding box\n",
    "def generate_pdf_report(image_path, prediction, confidence, image_with_box=None, bbox=None, quadrant=None):\n",
    "    \"\"\"Generate a PDF report.\"\"\"\n",
    "    pdf = FPDF()\n",
    "    pdf.add_page()\n",
    "\n",
    "    pdf.set_font(\"Arial\", size=16)\n",
    "    pdf.cell(200, 10, txt=\"Brain Tumor Detection Report\", ln=True, align=\"C\")\n",
    "\n",
    "    pdf.set_font(\"Arial\", size=12)\n",
    "    pdf.cell(200, 10, txt=f\"Prediction: {prediction} (Confidence: {confidence:.2f})\", ln=True, align=\"L\")\n",
    "\n",
    "    if prediction == \"Tumor\":\n",
    "        if bbox and quadrant:\n",
    "            pdf.cell(200, 10, txt=f\"Bounding Box: {bbox}\", ln=True, align=\"L\")\n",
    "            pdf.cell(200, 10, txt=f\"Quadrant: {quadrant}\", ln=True, align=\"L\")\n",
    "\n",
    "        if image_with_box is not None:\n",
    "            output_image_path = \"output_image_with_box.jpg\"\n",
    "            cv2.imwrite(output_image_path, image_with_box)\n",
    "            pdf.image(output_image_path, x=10, y=50, w=100)\n",
    "    else:\n",
    "        pdf.image(image_path, x=10, y=50, w=100)\n",
    "\n",
    "    output_path = \"tumor_detection_report.pdf\"\n",
    "    pdf.output(output_path)\n",
    "    print(f\"PDF report generated: {output_path}\")\n",
    "\n",
    "# Main pipeline function with quadrant detection\n",
    "def process_image(image_path):\n",
    "    \"\"\"Process an input image through the pipeline, including quadrant detection.\"\"\"\n",
    "    prediction, confidence = predict_tumor_cnn(image_path)\n",
    "    print(f\"Classification Result: {prediction} with confidence {confidence:.2f}\")\n",
    "\n",
    "    if prediction == \"Tumor\":\n",
    "        image_with_box, bbox, quadrant = detect_and_draw_bounding_box(image_path)\n",
    "        if bbox:\n",
    "            print(f\"Tumor detected in {quadrant}. Bounding box: {bbox}\")\n",
    "        generate_pdf_report(image_path, prediction, confidence, image_with_box, bbox, quadrant)\n",
    "    else:\n",
    "        print(\"No tumor detected. Skipping YOLO.\")\n",
    "        generate_pdf_report(image_path, prediction, confidence)\n",
    "\n",
    "# Example usage\n",
    "input_image_path = \"Tr-gl_0483.jpg\"  # Replace with your test image path\n",
    "process_image(input_image_path)"
   ]
  },
  {
   "cell_type": "code",
   "execution_count": 25,
   "metadata": {},
   "outputs": [
    {
     "name": "stdout",
     "output_type": "stream",
     "text": [
      "\u001b[1m1/1\u001b[0m \u001b[32m━━━━━━━━━━━━━━━━━━━━\u001b[0m\u001b[37m\u001b[0m \u001b[1m1s\u001b[0m 1s/step\n",
      "Classification Result: Tumor with confidence 1.00\n",
      "\n",
      "image 1/1 C:\\Users\\PC\\Downloads\\fyp\\Brain-Imaging-Analysis-and-Reporting-System-main\\Tr-me_0515.jpg: 640x640 1 meningioma, 753.3ms\n",
      "Speed: 256.5ms preprocess, 753.3ms inference, 195.2ms postprocess per image at shape (1, 3, 640, 640)\n",
      "Tumor detected in Top-Right Quadrant. Bounding box: [255.3573455810547, 129.51025390625, 357.7661437988281, 228.65188598632812]\n",
      "PDF report generated: tumor_detection_report.pdf\n"
     ]
    }
   ],
   "source": [
    "# Example usage\n",
    "input_image_path = \"Tr-me_0515.jpg\"  # Replace with your test image path\n",
    "process_image(input_image_path)"
   ]
  },
  {
   "cell_type": "markdown",
   "metadata": {},
   "source": [
    "## not included"
   ]
  },
  {
   "cell_type": "code",
   "execution_count": 14,
   "metadata": {},
   "outputs": [
    {
     "name": "stdout",
     "output_type": "stream",
     "text": [
      "\u001b[1m1/1\u001b[0m \u001b[32m━━━━━━━━━━━━━━━━━━━━\u001b[0m\u001b[37m\u001b[0m \u001b[1m1s\u001b[0m 1s/step\n",
      "Classification Result: Tumor with confidence 1.00\n",
      "\n",
      "image 1/1 C:\\Users\\PC\\Downloads\\fyp\\Brain-Imaging-Analysis-and-Reporting-System-main\\Tr-me_0556.jpg: 640x640 1 meningioma, 70.5ms\n",
      "Speed: 2.0ms preprocess, 70.5ms inference, 0.0ms postprocess per image at shape (1, 3, 640, 640)\n",
      "Tumor detected in Top-Left Quadrant. Bounding box: [160.5937957763672, 88.47514343261719, 249.7942352294922, 163.73892211914062]\n",
      "PDF report generated: tumor_detection_report.pdf\n"
     ]
    }
   ],
   "source": [
    "# Generate PDF Report with quadrant and bounding box\n",
    "def generate_pdf_report(image_path, prediction, confidence, image_with_box=None, bbox=None, quadrant=None):\n",
    "    \"\"\"Generate a PDF report.\"\"\"\n",
    "    pdf = FPDF()\n",
    "    pdf.add_page()\n",
    "\n",
    "    pdf.set_font(\"Arial\", size=16)\n",
    "    pdf.cell(200, 10, txt=\"Brain Tumor Detection Report\", ln=True, align=\"C\")\n",
    "\n",
    "    pdf.set_font(\"Arial\", size=12)\n",
    "    pdf.cell(200, 10, txt=f\"Prediction: {prediction} (Confidence: {confidence:.2f})\", ln=True, align=\"L\")\n",
    "\n",
    "    if prediction == \"Tumor\":\n",
    "        if bbox and quadrant:\n",
    "            pdf.cell(200, 10, txt=f\"Bounding Box: {bbox}\", ln=True, align=\"L\")\n",
    "            pdf.cell(200, 10, txt=f\"Quadrant: {quadrant}\", ln=True, align=\"L\")\n",
    "\n",
    "        if image_with_box is not None:\n",
    "            output_image_path = \"output_image_with_box.jpg\"\n",
    "            cv2.imwrite(output_image_path, image_with_box)\n",
    "            pdf.image(output_image_path, x=10, y=50, w=100)\n",
    "    else:\n",
    "        pdf.image(image_path, x=10, y=50, w=100)\n",
    "\n",
    "    output_path = \"tumor_detection_report.pdf\"\n",
    "    pdf.output(output_path)\n",
    "    print(f\"PDF report generated: {output_path}\")\n",
    "\n",
    "# Updated function for YOLO detection with quadrant calculation\n",
    "def detect_and_draw_bounding_box(image_path):\n",
    "    \"\"\"Use YOLO to detect tumors, draw bounding boxes, and determine the tumor's quadrant.\"\"\"\n",
    "    results = yolo_model.predict(image_path)\n",
    "    if len(results[0].boxes) > 0:  # Check if detections exist\n",
    "        detected_image = results[0].plot()  # Plot boxes on the image\n",
    "        bbox = results[0].boxes[0].xyxy[0].tolist()  # Get the first detection's bbox\n",
    "        quadrant = determine_quadrant(cv2.imread(image_path).shape, bbox)\n",
    "        return detected_image, bbox, quadrant\n",
    "    return None, None, None\n",
    "\n",
    "# Main pipeline function with quadrant detection\n",
    "def process_image(image_path):\n",
    "    \"\"\"Process an input image through the pipeline, including quadrant detection.\"\"\"\n",
    "    prediction, confidence = predict_tumor_cnn(image_path)\n",
    "    print(f\"Classification Result: {prediction} with confidence {confidence:.2f}\")\n",
    "\n",
    "    if prediction == \"Tumor\":\n",
    "        image_with_box, bbox, quadrant = detect_and_draw_bounding_box(image_path)\n",
    "        if bbox:\n",
    "            print(f\"Tumor detected in {quadrant}. Bounding box: {bbox}\")\n",
    "        generate_pdf_report(image_path, prediction, confidence, image_with_box, bbox, quadrant)\n",
    "    else:\n",
    "        print(\"No tumor detected. Skipping YOLO.\")\n",
    "        generate_pdf_report(image_path, prediction, confidence)\n",
    "\n",
    "# Example usage\n",
    "input_image_path = \"Tr-me_0556.jpg\"  # Replace with your test image path\n",
    "process_image(input_image_path)\n"
   ]
  },
  {
   "cell_type": "code",
   "execution_count": null,
   "metadata": {},
   "outputs": [],
   "source": []
  }
 ],
 "metadata": {
  "colab": {
   "provenance": []
  },
  "kaggle": {
   "accelerator": "nvidiaTeslaT4",
   "dataSources": [
    {
     "datasetId": 1608934,
     "sourceId": 2645886,
     "sourceType": "datasetVersion"
    },
    {
     "datasetId": 2020131,
     "sourceId": 3347069,
     "sourceType": "datasetVersion"
    },
    {
     "datasetId": 2576496,
     "sourceId": 4436411,
     "sourceType": "datasetVersion"
    },
    {
     "datasetId": 2639673,
     "sourceId": 4542090,
     "sourceType": "datasetVersion"
    }
   ],
   "dockerImageVersionId": 30665,
   "isGpuEnabled": true,
   "isInternetEnabled": true,
   "language": "python",
   "sourceType": "notebook"
  },
  "kernelspec": {
   "display_name": "Python 3 (ipykernel)",
   "language": "python",
   "name": "python3"
  },
  "language_info": {
   "codemirror_mode": {
    "name": "ipython",
    "version": 3
   },
   "file_extension": ".py",
   "mimetype": "text/x-python",
   "name": "python",
   "nbconvert_exporter": "python",
   "pygments_lexer": "ipython3",
   "version": "3.12.7"
  }
 },
 "nbformat": 4,
 "nbformat_minor": 4
}
